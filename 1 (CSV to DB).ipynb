{
 "cells": [
  {
   "cell_type": "code",
   "execution_count": 1,
   "id": "380b48df",
   "metadata": {},
   "outputs": [],
   "source": [
    "import mysql.connector"
   ]
  },
  {
   "cell_type": "code",
   "execution_count": 2,
   "id": "e9dd933d",
   "metadata": {},
   "outputs": [],
   "source": [
    "db = mysql.connector.connect(host=\"localhost\",user=\"root\",passwd=\"admin\",database=\"db\")"
   ]
  },
  {
   "cell_type": "code",
   "execution_count": 3,
   "id": "861d9060",
   "metadata": {},
   "outputs": [
    {
     "name": "stdout",
     "output_type": "stream",
     "text": [
      "YES\n"
     ]
    }
   ],
   "source": [
    "if(db):\n",
    "    print(\"YES\")\n",
    "else:\n",
    "    print(\"NO\")"
   ]
  },
  {
   "cell_type": "code",
   "execution_count": 4,
   "id": "8b5c6b4f",
   "metadata": {},
   "outputs": [],
   "source": [
    "mycursor = db.cursor()\n",
    "# mycursor.execute(\"Create database Pokemash4\")"
   ]
  },
  {
   "cell_type": "code",
   "execution_count": 5,
   "id": "210a8caa",
   "metadata": {},
   "outputs": [
    {
     "name": "stdout",
     "output_type": "stream",
     "text": [
      "('db',)\n",
      "('information_schema',)\n",
      "('mysql',)\n",
      "('performance_schema',)\n",
      "('poke1',)\n",
      "('pokemash3',)\n",
      "('pokemash4',)\n",
      "('sakila',)\n",
      "('sys',)\n",
      "('world',)\n"
     ]
    }
   ],
   "source": [
    "mycursor.execute(\"Show databases\")\n",
    "for x in mycursor:\n",
    "    print(x)"
   ]
  },
  {
   "cell_type": "code",
   "execution_count": 6,
   "id": "c2515c5c",
   "metadata": {},
   "outputs": [
    {
     "name": "stdout",
     "output_type": "stream",
     "text": [
      "('student',)\n"
     ]
    }
   ],
   "source": [
    "# mycursor.execute(\"Create table tb(name varchar(200), sal int(20))\")\n",
    "mycursor.execute(\"Show tables\")\n",
    "for x in mycursor:\n",
    "    print(x)"
   ]
  },
  {
   "cell_type": "code",
   "execution_count": 7,
   "id": "08dbb437",
   "metadata": {},
   "outputs": [],
   "source": [
    "sqlform = \"Insert into student(student_id,name,major) values(%s,%s,%s)\"\n",
    "st = [(1,\"Nitesh\",\"CS\"),(2,\"Aarush\",\"CS\"),(3,\"Aryan\",\"Civil\"),(4,\"Mrinal\",\"BI\"),(5,\"Swapnil\",\"BT\"),]\n",
    "\n",
    "mycursor.executemany(sqlform,st)\n",
    "db.commit()"
   ]
  },
  {
   "cell_type": "code",
   "execution_count": 8,
   "id": "b41982d9",
   "metadata": {},
   "outputs": [
    {
     "name": "stdout",
     "output_type": "stream",
     "text": [
      "(1, 'Nitesh', 'CS')\n",
      "(2, 'Aarush', 'CS')\n",
      "(3, 'Aryan', 'Civil')\n",
      "(4, 'Mrinal', 'BI')\n",
      "(5, 'Swapnil', 'BT')\n"
     ]
    }
   ],
   "source": [
    "mycursor.execute(\"Select * from student\")\n",
    "myresult = mycursor.fetchall()\n",
    "\n",
    "for row in myresult:\n",
    "    print(row)"
   ]
  },
  {
   "cell_type": "code",
   "execution_count": 11,
   "id": "85350cf3",
   "metadata": {},
   "outputs": [],
   "source": [
    "sql = \"UPDATE student SET major='NA' WHERE name='aarush'\"\n",
    "mycursor.execute(sql)\n",
    "db.commit()"
   ]
  },
  {
   "cell_type": "code",
   "execution_count": 12,
   "id": "b013c39b",
   "metadata": {},
   "outputs": [
    {
     "name": "stdout",
     "output_type": "stream",
     "text": [
      "(1, 'Nitesh', 'CS')\n",
      "(2, 'Aarush', 'NA')\n",
      "(3, 'Aryan', 'Civil')\n",
      "(4, 'Mrinal', 'BI')\n",
      "(5, 'Swapnil', 'BT')\n"
     ]
    }
   ],
   "source": [
    "mycursor.execute(\"Select * from student\")\n",
    "myresult = mycursor.fetchall()\n",
    "\n",
    "for row in myresult:\n",
    "    print(row)"
   ]
  },
  {
   "cell_type": "code",
   "execution_count": 13,
   "id": "9929e7ca",
   "metadata": {},
   "outputs": [],
   "source": [
    "dele = \"DELETE FROM student WHERE name='aarush'\"\n",
    "mycursor.execute(dele)\n",
    "db.commit()"
   ]
  },
  {
   "cell_type": "code",
   "execution_count": 14,
   "id": "56dd1eb9",
   "metadata": {},
   "outputs": [
    {
     "name": "stdout",
     "output_type": "stream",
     "text": [
      "(1, 'Nitesh', 'CS')\n",
      "(3, 'Aryan', 'Civil')\n",
      "(4, 'Mrinal', 'BI')\n",
      "(5, 'Swapnil', 'BT')\n"
     ]
    }
   ],
   "source": [
    "mycursor.execute(\"Select * from student\")\n",
    "myresult = mycursor.fetchall()\n",
    "\n",
    "for row in myresult:\n",
    "    print(row)"
   ]
  },
  {
   "cell_type": "code",
   "execution_count": null,
   "id": "42b6ca42",
   "metadata": {},
   "outputs": [],
   "source": []
  }
 ],
 "metadata": {
  "kernelspec": {
   "display_name": "Python 3 (ipykernel)",
   "language": "python",
   "name": "python3"
  },
  "language_info": {
   "codemirror_mode": {
    "name": "ipython",
    "version": 3
   },
   "file_extension": ".py",
   "mimetype": "text/x-python",
   "name": "python",
   "nbconvert_exporter": "python",
   "pygments_lexer": "ipython3",
   "version": "3.9.6"
  }
 },
 "nbformat": 4,
 "nbformat_minor": 5
}
